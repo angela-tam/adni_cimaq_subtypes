{
 "cells": [
  {
   "cell_type": "code",
   "execution_count": 1,
   "metadata": {},
   "outputs": [],
   "source": [
    "import pandas as pd"
   ]
  },
  {
   "cell_type": "markdown",
   "metadata": {},
   "source": [
    "### load adni demographics"
   ]
  },
  {
   "cell_type": "code",
   "execution_count": 2,
   "metadata": {},
   "outputs": [],
   "source": [
    "adni_df = pd.read_csv('/home/angela/Desktop/adni_rsfmri/admci_model_multisite_scanner_fd_snr_20151113.csv',\n",
    "                      skipinitialspace=True)"
   ]
  },
  {
   "cell_type": "code",
   "execution_count": 3,
   "metadata": {},
   "outputs": [],
   "source": [
    "# get rid of trailing spaces in adni_df\n",
    "adni_df.rename(columns=lambda x: x.strip(),inplace=True)"
   ]
  },
  {
   "cell_type": "code",
   "execution_count": 4,
   "metadata": {},
   "outputs": [],
   "source": [
    "# rename column id for subject\n",
    "adni_df.rename(index=str,columns={'Unnamed: 0':'ID'},inplace=True)"
   ]
  },
  {
   "cell_type": "code",
   "execution_count": 5,
   "metadata": {},
   "outputs": [],
   "source": [
    "# take only adni subjects\n",
    "adni_df = adni_df[adni_df.adni2 != 0]"
   ]
  },
  {
   "cell_type": "code",
   "execution_count": 6,
   "metadata": {},
   "outputs": [],
   "source": [
    "# get rid of trailing spaces in subject names in df and rename\n",
    "for i,row in adni_df.iterrows():\n",
    "    subj = row[adni_df.columns.get_loc(\"ID\")]\n",
    "    subj = subj.rstrip()\n",
    "    rid = 's' + subj[7::]\n",
    "    adni_df.loc[i,'ID'] = rid"
   ]
  },
  {
   "cell_type": "code",
   "execution_count": 7,
   "metadata": {},
   "outputs": [],
   "source": [
    "# get rid of unnecessary stuff\n",
    "adni_df.drop(labels=['excluded','criugm','mnimci','ad_criugm','criugm_mci','adpd','snr_vmpfc',\n",
    "                    'fd'],\n",
    "             axis=1,inplace=True)"
   ]
  },
  {
   "cell_type": "code",
   "execution_count": 8,
   "metadata": {},
   "outputs": [],
   "source": [
    "adni_df['cimaq'] = 0"
   ]
  },
  {
   "cell_type": "markdown",
   "metadata": {},
   "source": [
    "### make dummy variable for female sex"
   ]
  },
  {
   "cell_type": "code",
   "execution_count": 9,
   "metadata": {},
   "outputs": [],
   "source": [
    "for i,row in adni_df.iterrows():\n",
    "    gen = row['gender']\n",
    "    if gen == 1:\n",
    "        fem = 0\n",
    "    elif gen == 2:\n",
    "        fem = 1\n",
    "    adni_df.loc[i,'Female'] = fem"
   ]
  },
  {
   "cell_type": "markdown",
   "metadata": {},
   "source": [
    "### make dummy variables for scanner (Achieva = 5, Gemini = 6, Ingenia = 7, Ingenuity = 8, Intera = 9)"
   ]
  },
  {
   "cell_type": "code",
   "execution_count": 10,
   "metadata": {},
   "outputs": [],
   "source": [
    "for i,row in adni_df.iterrows():\n",
    "    site = row['mtladni2sites']\n",
    "    if site == 5:\n",
    "        adni_df.loc[i,'adni_achieva'] = 1\n",
    "    else:\n",
    "        adni_df.loc[i,'adni_achieva'] = 0\n",
    "    if site == 6:\n",
    "        adni_df.loc[i,'adni_gemini'] = 1\n",
    "    else:\n",
    "        adni_df.loc[i,'adni_gemini'] = 0\n",
    "    if site == 7:\n",
    "        adni_df.loc[i,'adni_ingenia'] = 1\n",
    "    else:\n",
    "        adni_df.loc[i,'adni_ingenia'] = 0\n",
    "    if site == 8:\n",
    "        adni_df.loc[i,'adni_ingenuity'] = 1\n",
    "    else:\n",
    "        adni_df.loc[i,'adni_ingenuity'] = 0\n",
    "    if site == 9:\n",
    "        adni_df.loc[i,'adni_intera'] = 1\n",
    "    else:\n",
    "        adni_df.loc[i,'adni_intera'] = 0\n",
    "            "
   ]
  },
  {
   "cell_type": "markdown",
   "metadata": {},
   "source": [
    "### make dummy variables for diagnosis"
   ]
  },
  {
   "cell_type": "code",
   "execution_count": 11,
   "metadata": {},
   "outputs": [],
   "source": [
    "for i,row in adni_df.iterrows():\n",
    "    dx = row['diagnosis']\n",
    "    if dx == '1':\n",
    "        adni_df.loc[i,'CN'] = 1\n",
    "    else:\n",
    "        adni_df.loc[i,'CN'] = 0\n",
    "    if dx == '2':\n",
    "        adni_df.loc[i,'MCI'] = 1\n",
    "    else:\n",
    "        adni_df.loc[i,'MCI'] = 0\n",
    "    if dx == '3':\n",
    "        adni_df.loc[i,'AD'] = 1\n",
    "    else:\n",
    "        adni_df.loc[i,'AD'] = 0"
   ]
  },
  {
   "cell_type": "code",
   "execution_count": 12,
   "metadata": {},
   "outputs": [],
   "source": [
    "adni_df.drop(labels=['mtladni2sites','gender','diagnosis','ctrlvsmci','ctrlvsad','mcivsad'],\n",
    "             axis=1,inplace=True)"
   ]
  },
  {
   "cell_type": "markdown",
   "metadata": {},
   "source": [
    "### qc for adni1"
   ]
  },
  {
   "cell_type": "code",
   "execution_count": 13,
   "metadata": {},
   "outputs": [],
   "source": [
    "# get qc info for adni2\n",
    "adni_qc = pd.read_csv('/home/angela/Desktop/adni_rsfmri/adni2_qc_fmri.csv')"
   ]
  },
  {
   "cell_type": "code",
   "execution_count": 14,
   "metadata": {},
   "outputs": [],
   "source": [
    "adni_qc.rename(index=str,columns={'qc':'QC'},inplace=True)"
   ]
  },
  {
   "cell_type": "markdown",
   "metadata": {},
   "source": [
    "### fd for adni1"
   ]
  },
  {
   "cell_type": "code",
   "execution_count": 15,
   "metadata": {},
   "outputs": [],
   "source": [
    "# get fd for adni1\n",
    "adni_fd = pd.read_csv('/home/angela/Desktop/adni_rsfmri/qc_group_motion/qc_scrubbing_group.csv',\n",
    "                     skipinitialspace=True)"
   ]
  },
  {
   "cell_type": "code",
   "execution_count": 16,
   "metadata": {},
   "outputs": [],
   "source": [
    "# get rid of trailing spaces in adni_df\n",
    "adni_fd.rename(columns=lambda x: x.strip(),inplace=True)"
   ]
  },
  {
   "cell_type": "code",
   "execution_count": 17,
   "metadata": {},
   "outputs": [],
   "source": [
    "# rename column id for session\n",
    "adni_fd.rename(index=str,columns={'':'session'},inplace=True)"
   ]
  },
  {
   "cell_type": "code",
   "execution_count": 18,
   "metadata": {},
   "outputs": [],
   "source": [
    "# make ID column\n",
    "for i,row in adni_fd.iterrows():\n",
    "    subj = row['session']\n",
    "    subj = subj[0:5]\n",
    "    adni_fd.loc[i,'ID'] = subj"
   ]
  },
  {
   "cell_type": "markdown",
   "metadata": {},
   "source": [
    "### merge adni qc and fd to demographics "
   ]
  },
  {
   "cell_type": "code",
   "execution_count": 19,
   "metadata": {},
   "outputs": [],
   "source": [
    "adni_df = pd.merge(adni_df, adni_qc[['ID','QC']], how = 'left', on = 'ID')"
   ]
  },
  {
   "cell_type": "code",
   "execution_count": 20,
   "metadata": {},
   "outputs": [],
   "source": [
    "adni_df = pd.merge(adni_df, adni_fd[['ID','FD_scrubbed']], how='left',on='ID')"
   ]
  },
  {
   "cell_type": "code",
   "execution_count": null,
   "metadata": {},
   "outputs": [],
   "source": [
    "#adni_df.to_csv('/home/angela/Desktop/adni_rsfmri/adni2_demog.csv',index=False)"
   ]
  },
  {
   "cell_type": "markdown",
   "metadata": {},
   "source": [
    "### load cimaq"
   ]
  },
  {
   "cell_type": "code",
   "execution_count": 22,
   "metadata": {},
   "outputs": [],
   "source": [
    "cimaq_df = pd.read_csv('/home/angela/Desktop/cimaq/cimaq_demog.csv')"
   ]
  },
  {
   "cell_type": "markdown",
   "metadata": {},
   "source": [
    "### add dummy variable for cimaq"
   ]
  },
  {
   "cell_type": "code",
   "execution_count": 23,
   "metadata": {},
   "outputs": [],
   "source": [
    "cimaq_df['cimaq'] = 1"
   ]
  },
  {
   "cell_type": "code",
   "execution_count": 24,
   "metadata": {},
   "outputs": [],
   "source": [
    "# rename some columsn\n",
    "cimaq_df.rename(index=str,columns={'SIEMENS_site':'cimaq_siemens'},inplace=True)\n",
    "cimaq_df.rename(index=str,columns={'CINQ':'cimaq_cinq'},inplace=True)\n",
    "cimaq_df.rename(index=str,columns={'CHUS':'cimaq_chus'},inplace=True)"
   ]
  },
  {
   "cell_type": "code",
   "execution_count": 25,
   "metadata": {},
   "outputs": [],
   "source": [
    "# strip - from subject IDs\n",
    "cimaq_df['ID'] = cimaq_df['ID'].str.replace('-', '', regex=False)"
   ]
  },
  {
   "cell_type": "code",
   "execution_count": 26,
   "metadata": {},
   "outputs": [],
   "source": [
    "# rename column\n",
    "cimaq_df.rename(index=str,columns={'Age_Loris':'age'},inplace=True)"
   ]
  },
  {
   "cell_type": "markdown",
   "metadata": {},
   "source": [
    "### dummy variables for diagnosis"
   ]
  },
  {
   "cell_type": "code",
   "execution_count": 27,
   "metadata": {},
   "outputs": [],
   "source": [
    "for i,row in cimaq_df.iterrows():\n",
    "    dx = row['Diagnostic_Loris']\n",
    "    if dx == 'cognitivement_sain_(cs)':\n",
    "        cimaq_df.loc[i,'CN'] = 1\n",
    "    else:\n",
    "        cimaq_df.loc[i,'CN'] = 0\n",
    "    if dx == 'troubles_subjectifs_de_cognition':\n",
    "        cimaq_df.loc[i,'SCI'] = 1\n",
    "    else:\n",
    "        cimaq_df.loc[i,'SCI'] = 0\n",
    "    if dx == 'trouble_cognitif_léger_précoce' or dx == 'trouble_cognitif_léger_tardif':\n",
    "        cimaq_df.loc[i,'MCI'] = 1\n",
    "    else:\n",
    "        cimaq_df.loc[i,'MCI'] = 0\n",
    "    if dx == 'démence_de_type_alzheimer-légère':\n",
    "        cimaq_df.loc[i,'AD'] = 1\n",
    "    else:\n",
    "        cimaq_df.loc[i,'AD'] = 0"
   ]
  },
  {
   "cell_type": "code",
   "execution_count": 28,
   "metadata": {},
   "outputs": [
    {
     "data": {
      "text/plain": [
       "['PSCID',\n",
       " 'DCCID',\n",
       " 'Visit_Label',\n",
       " 'Site_Loris',\n",
       " 'Site_Mincheader',\n",
       " 'Manufacturer_Mincheader',\n",
       " 'Scanner_Model_Mincheader',\n",
       " 'Gender_Loris',\n",
       " 'age',\n",
       " 'Diagnostic_Loris',\n",
       " 'FD_scrubbed',\n",
       " 'ID',\n",
       " 'cimaq_siemens',\n",
       " 'cimaq_cinq',\n",
       " 'cimaq_chus',\n",
       " 'Male',\n",
       " 'Female',\n",
       " 'QC',\n",
       " 'cimaq',\n",
       " 'CN',\n",
       " 'SCI',\n",
       " 'MCI',\n",
       " 'AD']"
      ]
     },
     "execution_count": 28,
     "metadata": {},
     "output_type": "execute_result"
    }
   ],
   "source": [
    "cimaq_df.columns.tolist()"
   ]
  },
  {
   "cell_type": "code",
   "execution_count": 29,
   "metadata": {},
   "outputs": [],
   "source": [
    "cimaq_df.drop(labels=['PSCID','DCCID','Visit_Label','Site_Loris','Site_Mincheader','Manufacturer_Mincheader',\n",
    "                      'Scanner_Model_Mincheader','Gender_Loris','Diagnostic_Loris'],axis=1,inplace=True)"
   ]
  },
  {
   "cell_type": "code",
   "execution_count": 31,
   "metadata": {},
   "outputs": [],
   "source": [
    "cimaq_df['adni2'] = 0\n",
    "cimaq_df['adni_achieva'] = 0\n",
    "cimaq_df['adni_gemini'] = 0\n",
    "cimaq_df['adni_ingenia'] = 0\n",
    "cimaq_df['adni_ingenuity'] = 0\n",
    "cimaq_df['adni_intera'] = 0"
   ]
  },
  {
   "cell_type": "markdown",
   "metadata": {},
   "source": [
    "### add dummy variables for cimaq sites in adni2"
   ]
  },
  {
   "cell_type": "code",
   "execution_count": 33,
   "metadata": {},
   "outputs": [],
   "source": [
    "adni_df['cimaq_siemens'] = 0\n",
    "adni_df['cimaq_cinq'] = 0\n",
    "adni_df['cimaq_chus'] = 0\n",
    "adni_df['SCI'] = 0"
   ]
  },
  {
   "cell_type": "code",
   "execution_count": null,
   "metadata": {},
   "outputs": [],
   "source": [
    "adni_df.head()"
   ]
  },
  {
   "cell_type": "markdown",
   "metadata": {},
   "source": [
    "### reorder columns in both dataframes"
   ]
  },
  {
   "cell_type": "code",
   "execution_count": 34,
   "metadata": {},
   "outputs": [],
   "source": [
    "adni_df = adni_df[['ID','age','Female','CN','SCI','MCI','AD','QC','FD_scrubbed',\n",
    "                   'adni2','cimaq','adni_achieva','adni_gemini',\n",
    "                   'adni_ingenia','adni_ingenuity','adni_intera','cimaq_siemens','cimaq_cinq',\n",
    "                  'cimaq_chus']]"
   ]
  },
  {
   "cell_type": "code",
   "execution_count": 35,
   "metadata": {},
   "outputs": [],
   "source": [
    "cimaq_df = cimaq_df[['ID','age','Female','CN','SCI','MCI','AD','QC','FD_scrubbed',\n",
    "                   'adni2','cimaq','adni_achieva','adni_gemini',\n",
    "                   'adni_ingenia','adni_ingenuity','adni_intera','cimaq_siemens','cimaq_cinq',\n",
    "                  'cimaq_chus']]"
   ]
  },
  {
   "cell_type": "markdown",
   "metadata": {},
   "source": [
    "### concatenate dataframes "
   ]
  },
  {
   "cell_type": "code",
   "execution_count": 36,
   "metadata": {},
   "outputs": [],
   "source": [
    "frames = [adni_df,cimaq_df]"
   ]
  },
  {
   "cell_type": "code",
   "execution_count": 37,
   "metadata": {},
   "outputs": [],
   "source": [
    "master_df = pd.concat(frames)"
   ]
  },
  {
   "cell_type": "code",
   "execution_count": 38,
   "metadata": {},
   "outputs": [],
   "source": [
    "master_df.to_csv('/home/angela/Desktop/adni_cimaq/adni_cimaq_info.csv',index=False)"
   ]
  },
  {
   "cell_type": "code",
   "execution_count": null,
   "metadata": {},
   "outputs": [],
   "source": []
  }
 ],
 "metadata": {
  "kernelspec": {
   "display_name": "Python 3",
   "language": "python",
   "name": "python3"
  },
  "language_info": {
   "codemirror_mode": {
    "name": "ipython",
    "version": 3
   },
   "file_extension": ".py",
   "mimetype": "text/x-python",
   "name": "python",
   "nbconvert_exporter": "python",
   "pygments_lexer": "ipython3",
   "version": "3.6.5"
  }
 },
 "nbformat": 4,
 "nbformat_minor": 2
}
